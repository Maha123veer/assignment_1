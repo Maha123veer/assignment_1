{
 "cells": [
  {
   "cell_type": "markdown",
   "id": "054f5532-b469-4a2c-85bf-966cdf00889d",
   "metadata": {},
   "source": [
    "### QUE:-1\n",
    "--> Which keyword is used to create a function? Create a function to return a list of odd numbers in the\n",
    "range of 1 to 25."
   ]
  },
  {
   "cell_type": "markdown",
   "id": "259bf9db-5ff1-4a3d-a101-338cd48efe0e",
   "metadata": {},
   "source": [
    "### ANS:-1\n",
    "--> there is a def keyword  is used to create a function.\n"
   ]
  },
  {
   "cell_type": "code",
   "execution_count": 1,
   "id": "53d2af11-b4f3-466a-a434-7037c3de9580",
   "metadata": {},
   "outputs": [],
   "source": [
    "def odd(n):\n",
    "    l=[]\n",
    "    for i in range(1,n):\n",
    "        if i%2==1:\n",
    "            l.append(i)\n",
    "    return l"
   ]
  },
  {
   "cell_type": "code",
   "execution_count": 2,
   "id": "9e0a7d8b-7189-48d4-abb2-f9a2abf6b6b4",
   "metadata": {},
   "outputs": [
    {
     "data": {
      "text/plain": [
       "[1, 3, 5, 7, 9, 11, 13, 15, 17, 19, 21, 23, 25]"
      ]
     },
     "execution_count": 2,
     "metadata": {},
     "output_type": "execute_result"
    }
   ],
   "source": [
    "odd(26)"
   ]
  },
  {
   "cell_type": "markdown",
   "id": "b674dd4a-c39a-4fee-b4c8-f5240e8c639b",
   "metadata": {},
   "source": [
    "----------------------------------------------------------------------------"
   ]
  },
  {
   "cell_type": "markdown",
   "id": "27668635-1b24-4316-bff5-38d7f607cc16",
   "metadata": {},
   "source": [
    "### QUE:-2\n",
    "--> Why *args and **kwargs is used in some functions? Create a function each for *args and **kwargs to\n",
    "demonstrate their use."
   ]
  },
  {
   "cell_type": "markdown",
   "id": "2fa5128f-8998-4bb7-9aaf-6217c8d4521c",
   "metadata": {},
   "source": [
    "### ANS:-2\n",
    "--> *args passes variable number of non keyworded arguments and on which operates on tuple can be performed."
   ]
  },
  {
   "cell_type": "code",
   "execution_count": 3,
   "id": "820cd8b6-253a-4ceb-94da-d5e4228128cc",
   "metadata": {},
   "outputs": [],
   "source": [
    "def add(*args):\n",
    "    total=0\n",
    "    for i in args:\n",
    "        total=total+i\n",
    "    return total"
   ]
  },
  {
   "cell_type": "code",
   "execution_count": 4,
   "id": "d82361a0-a33d-40c2-a52f-85dddaf0a678",
   "metadata": {},
   "outputs": [
    {
     "data": {
      "text/plain": [
       "19"
      ]
     },
     "execution_count": 4,
     "metadata": {},
     "output_type": "execute_result"
    }
   ],
   "source": [
    "add(3,4,5,7)"
   ]
  },
  {
   "cell_type": "markdown",
   "id": "3ec4158d-eb37-4c65-b78d-fab8ada63758",
   "metadata": {},
   "source": [
    "--> **kwargs passes variable number of keyword arguments to a function. it collects all keyword arguments to passes to a function to a dictionary."
   ]
  },
  {
   "cell_type": "code",
   "execution_count": 5,
   "id": "ffea3d07-041e-4b2d-91f0-a64492a4b942",
   "metadata": {},
   "outputs": [],
   "source": [
    "def detail(**kwargs):\n",
    "    for key,values in kwargs.items():\n",
    "        print(f\" '{key}':{values}\")\n",
    "        "
   ]
  },
  {
   "cell_type": "code",
   "execution_count": 6,
   "id": "04941d30-45a6-4f98-8bc5-d4c5c68cae67",
   "metadata": {},
   "outputs": [
    {
     "name": "stdout",
     "output_type": "stream",
     "text": [
      " 'a':33\n",
      " 'b':44\n",
      " 'c':anil\n",
      " 'd':89453\n",
      " 'jumer':34534\n"
     ]
    }
   ],
   "source": [
    "detail(a=33,b=44,c=\"anil\",d=89453,jumer=34534)"
   ]
  },
  {
   "cell_type": "markdown",
   "id": "d49cefb4-4fcb-4c69-bfdd-5a6af6f811f8",
   "metadata": {},
   "source": [
    "-----------------------------------------------------------------------"
   ]
  },
  {
   "cell_type": "markdown",
   "id": "1cc68500-c409-45ce-93f4-7c25c617a8cd",
   "metadata": {},
   "source": [
    "### QUE:-3\n",
    "--> What is an iterator in python? Name the method used to initialise the iterator object and the method\n",
    "used for iteration. Use these methods to print the first five elements of the given list [2, 4, 6, 8, 10, 12, 14, 16,\n",
    "18, 20]."
   ]
  },
  {
   "cell_type": "markdown",
   "id": "c30cb209-5927-49c3-a754-ed16978f777b",
   "metadata": {},
   "source": [
    "### ANS:-3\n",
    "--> an iter is an object that allows you to iterate over collection,list ,tuple,dictionary."
   ]
  },
  {
   "cell_type": "markdown",
   "id": "78b6abf3-7e83-4d81-a225-50cb4dd57f27",
   "metadata": {},
   "source": [
    "in iterate there are two methods.\n",
    "iter() and next()"
   ]
  },
  {
   "cell_type": "markdown",
   "id": "7c06a9de-5f35-4238-8045-fd8d7f9b15de",
   "metadata": {},
   "source": [
    "iter() method --> this method initialized the iterator object . it returns a iterator object itself.allwoing to object iterator over."
   ]
  },
  {
   "cell_type": "markdown",
   "id": "843412e3-33c5-4e87-861e-2ec8616fe2fb",
   "metadata": {},
   "source": [
    "next() method--> this method  is used to retrieve the next element from the iterator"
   ]
  },
  {
   "cell_type": "code",
   "execution_count": 7,
   "id": "41508083-febc-41b3-b3a3-a9da91e96b8b",
   "metadata": {},
   "outputs": [
    {
     "name": "stdout",
     "output_type": "stream",
     "text": [
      "2\n",
      "4\n",
      "6\n",
      "8\n",
      "10\n"
     ]
    }
   ],
   "source": [
    "list= [2, 4, 6, 8, 10, 12, 14, 16, 18, 20]\n",
    "iterator = iter(list)\n",
    "for i in range(5):\n",
    "    print(next(iterator))"
   ]
  },
  {
   "cell_type": "markdown",
   "id": "3daffe6e-ca5d-401b-b68b-4cecdc7b0fd7",
   "metadata": {},
   "source": [
    "----------------------------------------------------------------------------------"
   ]
  },
  {
   "cell_type": "markdown",
   "id": "4a6bc164-b98f-456d-b64c-8584e1d8932f",
   "metadata": {},
   "source": [
    "### QUE:4\n",
    "-->What is a generator function in python? Why yield keyword is used? Give an example of a generator\n",
    "function."
   ]
  },
  {
   "cell_type": "markdown",
   "id": "754fc389-6211-469c-b5fc-7ed98477c318",
   "metadata": {},
   "source": [
    "### ANS:-4\n",
    "--> in python generator function is a special type of function that allows you to generate a sequance of value on the fly,instead a returning a single value  a generator function yield a series value a it execute one at the time."
   ]
  },
  {
   "cell_type": "markdown",
   "id": "895be734-4217-47e8-acd1-c8425ff51f2e",
   "metadata": {},
   "source": [
    "--> The yield keyword is used in generator function to produce value incrementally ,maintain state between successively call. "
   ]
  },
  {
   "cell_type": "code",
   "execution_count": 8,
   "id": "e0a86efc-fd22-4ebe-9d9e-a1b8a884d668",
   "metadata": {},
   "outputs": [
    {
     "name": "stdout",
     "output_type": "stream",
     "text": [
      "0\n",
      "2\n",
      "4\n",
      "6\n",
      "8\n"
     ]
    }
   ],
   "source": [
    "def even(n):\n",
    "    for i in range(n):\n",
    "        if i%2==0:\n",
    "            yield i\n",
    "even_number=even(10)\n",
    "for j in even_number:\n",
    "    print(j)"
   ]
  },
  {
   "cell_type": "markdown",
   "id": "6d217150-a96d-4121-b678-0127ada2296d",
   "metadata": {},
   "source": [
    "----------------------------------------------------------------"
   ]
  },
  {
   "cell_type": "markdown",
   "id": "c49b6b84-5293-4e2d-9621-e10268cfb43d",
   "metadata": {},
   "source": [
    "### QUE:-5\n",
    "--> Create a generator function for prime numbers less than 1000. Use the next() method to print the\n",
    "first 20 prime numbers."
   ]
  },
  {
   "cell_type": "code",
   "execution_count": 14,
   "id": "2ab314a7-4337-487f-9c8b-b1519fc03eda",
   "metadata": {},
   "outputs": [
    {
     "name": "stdout",
     "output_type": "stream",
     "text": [
      "2 3 4 5 7 11 13 17 19 23 29 31 37 41 43 47 53 59 61 67 "
     ]
    }
   ],
   "source": [
    "### ANS:-5\n",
    "def prime():\n",
    "    #for num in range(2,1000):\n",
    "    num=2\n",
    "    while num < 1000:\n",
    "        if all(num%i!=0 for i in range(2,(num//2))):\n",
    "            yield num\n",
    "        num+=1\n",
    "prime_gen=prime()\n",
    "for prime in range(20):\n",
    "    print(next(prime_gen),end=\" \")"
   ]
  },
  {
   "cell_type": "code",
   "execution_count": null,
   "id": "e8f1eff5-85d4-461f-b123-842b6e3ad7e4",
   "metadata": {},
   "outputs": [],
   "source": []
  },
  {
   "cell_type": "code",
   "execution_count": null,
   "id": "722fc5e5-de14-4d6f-9b6c-fbab9c85ec62",
   "metadata": {},
   "outputs": [],
   "source": []
  }
 ],
 "metadata": {
  "kernelspec": {
   "display_name": "Python 3 (ipykernel)",
   "language": "python",
   "name": "python3"
  },
  "language_info": {
   "codemirror_mode": {
    "name": "ipython",
    "version": 3
   },
   "file_extension": ".py",
   "mimetype": "text/x-python",
   "name": "python",
   "nbconvert_exporter": "python",
   "pygments_lexer": "ipython3",
   "version": "3.10.8"
  }
 },
 "nbformat": 4,
 "nbformat_minor": 5
}
