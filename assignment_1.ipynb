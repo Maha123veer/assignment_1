{
 "cells": [
  {
   "cell_type": "raw",
   "id": "1d0242f0-c37f-46e1-9286-42f1c75f70c7",
   "metadata": {},
   "source": [
    "QUE:-1\n",
    "    Who Developed python programming language?"
   ]
  },
  {
   "cell_type": "markdown",
   "id": "fa3a1fe2-985b-4975-9373-c418f2fb73a7",
   "metadata": {},
   "source": [
    "### Ans:-1\n",
    "### python programming language is developed by GUIDO VAN ROSSUM  and it is released on February 20, 1991. python name is come from Pythons flying circus."
   ]
  },
  {
   "cell_type": "code",
   "execution_count": null,
   "id": "bde0e7a3-5aff-4b0f-8699-c538d4af18d3",
   "metadata": {},
   "outputs": [],
   "source": [
    "QUE:-2\n",
    "    which type of programming does python support?"
   ]
  },
  {
   "cell_type": "markdown",
   "id": "6a6e6382-f423-4a0c-bd9c-499fede441a4",
   "metadata": {},
   "source": [
    "### Ans:-2\n",
    "### python is a multiparadigm programming language.python supports Object Oriented programming and structured programming language."
   ]
  },
  {
   "cell_type": "code",
   "execution_count": null,
   "id": "59828cb7-a450-4dcf-915e-a60aa3548b82",
   "metadata": {},
   "outputs": [],
   "source": [
    "QUE:-3\n",
    "    is python case sensitive when dealing with identifiers?\n",
    "    "
   ]
  },
  {
   "cell_type": "markdown",
   "id": "01c08651-1684-45e3-8fd3-75ff93cf614e",
   "metadata": {},
   "source": [
    "### Ans:-3\n",
    "### YES, python is case sensitive language, so identifiers are case sensitive"
   ]
  },
  {
   "cell_type": "code",
   "execution_count": null,
   "id": "f1afe959-ffb0-473b-a0db-40cf2a19face",
   "metadata": {},
   "outputs": [],
   "source": [
    "QUE:-4\n",
    "    what is the correct extension of python file?"
   ]
  },
  {
   "cell_type": "markdown",
   "id": "91b854e3-d700-4ffe-abd8-193b1575276c",
   "metadata": {},
   "source": [
    "### Ans:-4\n",
    "### The correct extension of python source file is \".py\""
   ]
  },
  {
   "cell_type": "code",
   "execution_count": null,
   "id": "a273959b-087c-47aa-8553-832cbc80b19a",
   "metadata": {},
   "outputs": [],
   "source": [
    "QUE:-5\n",
    "    Is python code compiled or interpreted?"
   ]
  },
  {
   "cell_type": "markdown",
   "id": "029c1995-16b9-41ce-9996-6dfdcfdf6380",
   "metadata": {},
   "source": [
    "### Ans:-5\n",
    "### Python is an interpretd programming language. this means python code is interpreted."
   ]
  },
  {
   "cell_type": "code",
   "execution_count": null,
   "id": "34878c2b-2a0a-492d-ac6b-a69dc2e3be3b",
   "metadata": {},
   "outputs": [],
   "source": [
    "QUE:-6\n",
    "   Name a few blocks of code  used to define in python language?"
   ]
  },
  {
   "cell_type": "markdown",
   "id": "1b8714c7-6276-4dcc-b825-f488f18dec94",
   "metadata": {},
   "source": [
    "### Ans:-6\n",
    "### python used identation to indicate a block of code. it means python maintain proper space to use code . like in if else there is no mare extra space in code."
   ]
  },
  {
   "cell_type": "code",
   "execution_count": null,
   "id": "5e62db61-b233-432c-945e-e8f58561bc4f",
   "metadata": {},
   "outputs": [],
   "source": [
    "QUE:-7\n",
    "   state a character used to give single line comment in python?\n",
    "    "
   ]
  },
  {
   "cell_type": "markdown",
   "id": "58475a95-54c1-422b-825e-7951363e2aff",
   "metadata": {},
   "source": [
    "### Ans:-7\n",
    "### There is \"#\" character used to give single line comment in python"
   ]
  },
  {
   "cell_type": "markdown",
   "id": "4ef56646-5760-4bd4-9584-5536006147d6",
   "metadata": {},
   "source": [
    "QUE:-8\n",
    "   mention function which can help us to find the version of python that we are currently working on?"
   ]
  },
  {
   "cell_type": "markdown",
   "id": "e58bb52a-da98-41cc-b904-69ccdc32058f",
   "metadata": {},
   "source": [
    "### Ans:-8\n",
    "### the functoin name is to find version of our python is \"sys.version\""
   ]
  },
  {
   "cell_type": "code",
   "execution_count": null,
   "id": "47cf2add-4e53-4a00-9148-ab1f7a78a10e",
   "metadata": {},
   "outputs": [],
   "source": [
    "QUE:-9\n",
    "   python supports the creation of anonymous function at runtime using a construct called?"
   ]
  },
  {
   "cell_type": "markdown",
   "id": "9044350c-b543-44c4-86e2-a25250027be8",
   "metadata": {},
   "source": [
    "### Ans:-9\n",
    "###  python supports the creation of anonymous function at runtime using a construct called \"lambda\","
   ]
  },
  {
   "cell_type": "code",
   "execution_count": null,
   "id": "27a6fa87-f333-4f57-9bad-0f6a34b4b78e",
   "metadata": {},
   "outputs": [],
   "source": [
    "QUE:-10\n",
    "   what does pip stand for python?"
   ]
  },
  {
   "cell_type": "markdown",
   "id": "5e34f61c-0ce8-45aa-8fdc-07e964faf34a",
   "metadata": {},
   "source": [
    "### Ans:-10\n",
    "### pip= Prefered Installer Program"
   ]
  },
  {
   "cell_type": "code",
   "execution_count": null,
   "id": "e6f932ad-c613-46b0-ad32-12dff6e1c531",
   "metadata": {},
   "outputs": [],
   "source": [
    "QUE:-11\n",
    "    mention a some built in function in python?"
   ]
  },
  {
   "cell_type": "markdown",
   "id": "e460dc51-0eaa-425b-babf-297e9082f0c8",
   "metadata": {},
   "source": [
    "### Ans:-11\n",
    "### there is some examples of build in function\n",
    "### print() function\n",
    "### str() function\n",
    "### int() function\n",
    "### float() function\n",
    "### len() function\n",
    "### input() function\n",
    "### dir() function\n",
    "### type() function\n",
    "### sorted() function"
   ]
  },
  {
   "cell_type": "code",
   "execution_count": null,
   "id": "02134a6c-76c5-4f53-820c-c807fcbe0fed",
   "metadata": {},
   "outputs": [],
   "source": [
    "QUE:-12\n",
    "    what is a maximum possible length of an identifier in python?\n",
    "   "
   ]
  },
  {
   "cell_type": "markdown",
   "id": "99a950e9-b931-4641-afce-84c4852359a4",
   "metadata": {},
   "source": [
    "### Ans:-12\n",
    "### An identifier can have maximum length of 79 characters in python."
   ]
  },
  {
   "cell_type": "code",
   "execution_count": null,
   "id": "63f9eaa4-f21e-48f6-b20f-e0d757f070c2",
   "metadata": {},
   "outputs": [],
   "source": [
    "QUE:-13\n",
    "   what are the benifit of using python?\n",
    "   "
   ]
  },
  {
   "cell_type": "markdown",
   "id": "c47077f7-7d24-4d5c-ad88-6230626e4708",
   "metadata": {},
   "source": [
    "### Ans:-13\n",
    "### 1- easy to read and learn\n",
    "### 2- reduce maintainance cost\n",
    "### 3- wide applocability\n",
    "### 4- easy memory management\n",
    "### 5- large community"
   ]
  },
  {
   "cell_type": "code",
   "execution_count": null,
   "id": "2698696d-ed4d-4379-9ad4-41ae906ba017",
   "metadata": {},
   "outputs": [],
   "source": [
    "QUE:-14\n",
    "    how is the memory management in python?"
   ]
  },
  {
   "cell_type": "markdown",
   "id": "f5a414a0-ee50-4c28-83ff-44b0ff31c310",
   "metadata": {},
   "source": [
    "### Ans:-14\n",
    "### in python memory management is handled by a private heap space. the heap is a region of memory where objects are stored and managed. pythons memory manager takes care of allocating memory for new objects and freeing memory for objects that are no longer in use."
   ]
  },
  {
   "cell_type": "code",
   "execution_count": null,
   "id": "8d85548a-e2ea-40c8-8b86-985f46baad34",
   "metadata": {},
   "outputs": [],
   "source": [
    "QUE:-15\n",
    "    how to install python in windows and set path veriable?"
   ]
  },
  {
   "cell_type": "markdown",
   "id": "7f9a796d-7810-4257-aad9-ff85cc889164",
   "metadata": {},
   "source": [
    "### Ans:-15\n",
    "Step 1: Locate Python Installation. ...\n",
    "Step 2: Verify Python Installation. ...\n",
    "Step 3: Add Python to Path as an Environmental Variable. ...\n",
    "Step 4: Add Python Path to User Environmental Variables. ...\n",
    "Step 5: Check if the Environment variable is set or not."
   ]
  },
  {
   "cell_type": "code",
   "execution_count": null,
   "id": "9b78f799-b651-4b66-a28e-05b34307d110",
   "metadata": {},
   "outputs": [],
   "source": [
    "QUE:-16\n",
    "    is indentation required in python?"
   ]
  },
  {
   "cell_type": "markdown",
   "id": "09e4b0da-3329-4df9-b6b8-e1428f910f8d",
   "metadata": {},
   "source": [
    "### Ans:-16\n",
    "### identation is mandatory in python to define the blocks of statements. and to make your code readable and easy to understand.\n"
   ]
  },
  {
   "cell_type": "code",
   "execution_count": null,
   "id": "d7fd61c8-655d-4892-ab0e-19740afc26e3",
   "metadata": {},
   "outputs": [],
   "source": []
  }
 ],
 "metadata": {
  "kernelspec": {
   "display_name": "Python 3 (ipykernel)",
   "language": "python",
   "name": "python3"
  },
  "language_info": {
   "codemirror_mode": {
    "name": "ipython",
    "version": 3
   },
   "file_extension": ".py",
   "mimetype": "text/x-python",
   "name": "python",
   "nbconvert_exporter": "python",
   "pygments_lexer": "ipython3",
   "version": "3.10.8"
  }
 },
 "nbformat": 4,
 "nbformat_minor": 5
}
