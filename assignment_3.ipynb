{
 "cells": [
  {
   "cell_type": "markdown",
   "id": "9853d471-ada3-434a-8405-bac9acb8d031",
   "metadata": {},
   "source": [
    "### QUE:-1  What are the characteristics of the tuples? Is tuple immutable?"
   ]
  },
  {
   "cell_type": "markdown",
   "id": "5f414eea-9c90-44d9-be71-f58c5fa4571a",
   "metadata": {},
   "source": [
    "ANS:-1 \n",
    "tuple is sequance of immutable python object.Tuples are surrounded in paranthesis (). Tuple are sequance just like list but the only difference between list and tuple is tuple are immutable means tuple cant be changed.\n",
    "### characteristic of tuple:-\n",
    "1. tuple are immutable.\n",
    "2. tuple have indexed.\n",
    "3. tuple cant be changed.\n",
    "4. tuple are in ordered.\n",
    "5. tuple can contains the duplicate elements."
   ]
  },
  {
   "cell_type": "markdown",
   "id": "44d05136-71db-4639-8955-eb91fae39ab5",
   "metadata": {},
   "source": [
    "--------------------------------------------------------------"
   ]
  },
  {
   "cell_type": "markdown",
   "id": "c8c1b6ba-c8a4-4f23-8791-aa858b5a37df",
   "metadata": {},
   "source": [
    "### QUE:-2 . What are the two tuple methods in python? Give an example of each method. Give a reason why tuples have only two in-built methods as compared to Lists.?"
   ]
  },
  {
   "cell_type": "markdown",
   "id": "46f78fff-a27b-4b32-b92c-92f7c1b61664",
   "metadata": {},
   "source": [
    "ANS:-2 There are only two tuple method that count() and index() that a tuple object can call."
   ]
  },
  {
   "cell_type": "markdown",
   "id": "567c9249-ce8f-4063-a81b-2a11c588c70b",
   "metadata": {},
   "source": [
    "'EXAMPLE OF COUNT() :--THE COUNT() METHOD RETURN THE NUMBER OF NUMBER OF THE SPECIFIED ELEMENT APPEAR IN TUPLE.'"
   ]
  },
  {
   "cell_type": "code",
   "execution_count": 5,
   "id": "3dcd7e0e-0f18-46ca-bb36-4ee1e235df4a",
   "metadata": {},
   "outputs": [
    {
     "data": {
      "text/plain": [
       "2"
      ]
     },
     "execution_count": 5,
     "metadata": {},
     "output_type": "execute_result"
    }
   ],
   "source": [
    "vowels=('a','e','i','o','i','u')\n",
    "vowels.count('i')"
   ]
  },
  {
   "cell_type": "markdown",
   "id": "66b583e9-b492-41ab-adc4-084d74ed0afe",
   "metadata": {},
   "source": [
    "EXAMPLE OF INDEX():-- THE INDEX() METHOD RETURN THE INDEX OF THE SPECIFIC ELEMENT IN THE TUPLE"
   ]
  },
  {
   "cell_type": "code",
   "execution_count": 8,
   "id": "2136e7bf-ee41-4f23-8d61-ca85bf5016f4",
   "metadata": {},
   "outputs": [
    {
     "data": {
      "text/plain": [
       "2"
      ]
     },
     "execution_count": 8,
     "metadata": {},
     "output_type": "execute_result"
    }
   ],
   "source": [
    "vowels=('a','e','i','o','i','u')\n",
    "vowels.index('i')"
   ]
  },
  {
   "cell_type": "markdown",
   "id": "f871bb60-b9f9-4bde-8048-dc0d0148d35a",
   "metadata": {},
   "source": [
    "### the reason of tuple have only two in build method because there are all method for mutable and tuple is immutable and it cant be change thats why tuples have only two methods count() and index()."
   ]
  },
  {
   "cell_type": "markdown",
   "id": "35f29bbb-3dad-4e1b-8a02-77c9a74a4a15",
   "metadata": {},
   "source": [
    "---------------------------------------------------------------"
   ]
  },
  {
   "cell_type": "markdown",
   "id": "f1846ed0-e138-4fe4-bcf9-783b822bbc32",
   "metadata": {},
   "source": [
    "### QUE:-3 \n",
    "  Which collection datatypes in python do not allow duplicate items? Write a code using a set to remove\n",
    "duplicates from the given list.\n",
    "\n",
    "\n",
    "List = [1, 1, 1, 2, 1, 3, 1, 4, 2, 1, 2, 2, 2, 3, 2, 4, 3, 1, 3, 2, 3, 3, 3, 4, 4, 1, 4, 2, 4, 3, 4, 4]"
   ]
  },
  {
   "cell_type": "markdown",
   "id": "4caf441a-fcdd-4a4d-b46f-fbbaff1c81b9",
   "metadata": {},
   "source": [
    "### ANS:-3\n",
    "there is a set which is unordered or unindexed which is no contains duplicate items."
   ]
  },
  {
   "cell_type": "code",
   "execution_count": 10,
   "id": "cbfe8327-08c1-489b-bf91-5ff1dcdfbc79",
   "metadata": {},
   "outputs": [
    {
     "data": {
      "text/plain": [
       "{1, 2, 3, 4}"
      ]
     },
     "execution_count": 10,
     "metadata": {},
     "output_type": "execute_result"
    }
   ],
   "source": [
    "List = [1, 1, 1, 2, 1, 3, 1, 4, 2, 1, 2, 2, 2, 3, 2, 4, 3, 1, 3, 2, 3, 3, 3, 4, 4, 1, 4, 2, 4, 3, 4, 4]\n",
    "list2=set(List)\n",
    "list2"
   ]
  },
  {
   "cell_type": "markdown",
   "id": "a268d2b1-52f5-4928-83a0-ed5ad34a7d09",
   "metadata": {},
   "source": [
    "there can be removed all duplicate member from the list using the set method."
   ]
  },
  {
   "cell_type": "markdown",
   "id": "b4f9ada9-23bb-4aaf-bd75-241fc1b9b34c",
   "metadata": {},
   "source": [
    "-------------------------------------------------------------------"
   ]
  },
  {
   "cell_type": "markdown",
   "id": "c34e5bc3-7df1-4863-8417-c41104943137",
   "metadata": {},
   "source": [
    "### QUE:-4\n",
    " Explain the difference between the union() and update() methods for a set. Give an example of\n",
    "each method"
   ]
  },
  {
   "cell_type": "markdown",
   "id": "52387494-9008-4379-bd9a-01d5a625fb68",
   "metadata": {},
   "source": [
    "### union() method\n",
    "--> the union() method returns a set that contains all item from the original set , and all items from the specified set."
   ]
  },
  {
   "cell_type": "markdown",
   "id": "84fc73e0-613f-4c7a-a633-fa73fa496278",
   "metadata": {},
   "source": [
    "--> if an item is present in more than one set, the result will contain only one appearance of this item."
   ]
  },
  {
   "cell_type": "code",
   "execution_count": 14,
   "id": "de6d4ee0-876f-444f-b7d2-bfd825f0d91b",
   "metadata": {},
   "outputs": [
    {
     "data": {
      "text/plain": [
       "{'a', 'b', 'c', 'd', 'e'}"
      ]
     },
     "execution_count": 14,
     "metadata": {},
     "output_type": "execute_result"
    }
   ],
   "source": [
    "''' Example of union()'''\n",
    "x={'a','b','c'}\n",
    "y={'c','d','e','b'}\n",
    "z=x.union(y)\n",
    "z"
   ]
  },
  {
   "cell_type": "markdown",
   "id": "63239cd6-5fce-4e89-8873-8ca713e9722c",
   "metadata": {},
   "source": [
    "### update() method\n",
    "--> The updatw() method updates the current set,by adding items from another set."
   ]
  },
  {
   "cell_type": "markdown",
   "id": "8510eedf-8c9b-4bbc-895c-ead9ee92a6c0",
   "metadata": {},
   "source": [
    "--> if an item is present in both sets, only one appearance of this item will be present in the update set"
   ]
  },
  {
   "cell_type": "code",
   "execution_count": null,
   "id": "f1787ab6-1e07-4926-9ec5-5052146f3ff1",
   "metadata": {},
   "outputs": [],
   "source": [
    "''' Example of update()'''\n",
    "x={1,2,3}\n",
    "y={3,4,5}\n",
    "x.update(y)\n",
    "x\n"
   ]
  },
  {
   "cell_type": "markdown",
   "id": "ea368115-d3cb-42af-9746-024418396778",
   "metadata": {},
   "source": [
    "### the main diffrance between union() and update:-\n",
    "union() returns a new set that contains all the elements from both sets\n",
    "while update() modifies one of the set to include all the element from both set"
   ]
  },
  {
   "cell_type": "markdown",
   "id": "4842686b-daf6-48b8-8a69-abf4a0040b8e",
   "metadata": {},
   "source": [
    "--------------------------------------------------------------"
   ]
  },
  {
   "cell_type": "markdown",
   "id": "2f64e316-c303-4eb2-a501-71cc4943ff53",
   "metadata": {},
   "source": [
    "### QUE:-5\n",
    "-->  What is a dictionary? Give an example. Also, state whether a dictionary is ordered or unordered."
   ]
  },
  {
   "cell_type": "markdown",
   "id": "063a87d6-0529-4f54-8334-f611c2687b0b",
   "metadata": {},
   "source": [
    "### ANS:-5\n",
    "--> A dictionary is a collection which is ordered , changable and do no allow to duplicate.\n",
    "--> dictionary are used to store value in key:value pairs.\n",
    "--> dictionary are written in curly braces with key:value.\n",
    "--> dictonary are ordered and changable it cant be store duplicate value.\n",
    "--> dictionary is ordered."
   ]
  },
  {
   "cell_type": "code",
   "execution_count": 15,
   "id": "438abaaa-131c-4c31-b3a2-a1b7057d1cc9",
   "metadata": {},
   "outputs": [
    {
     "data": {
      "text/plain": [
       "{'name': 'mahaveer', 'course': 'DSM', 'totaltime': '500hr', 'date': 2024}"
      ]
     },
     "execution_count": 15,
     "metadata": {},
     "output_type": "execute_result"
    }
   ],
   "source": [
    "''' Example of dict'''\n",
    "dict={\"name\": \"mahaveer\",\"course\":\"DSM\",\"totaltime\": \"500hr\",\"date\":2024}\n",
    "dict"
   ]
  },
  {
   "cell_type": "markdown",
   "id": "6a34110c-2782-43e4-a3d0-d1158de40698",
   "metadata": {},
   "source": [
    "-------------------------------------------------------------"
   ]
  },
  {
   "cell_type": "markdown",
   "id": "b00c1126-3e2b-454f-b35b-dd387362d1e5",
   "metadata": {},
   "source": [
    "### QUE:-6 \n",
    "--> Can we create a nested dictionary? If so, please give an example by creating a simple one-level\n",
    "nested dictionary."
   ]
  },
  {
   "cell_type": "markdown",
   "id": "9d53c2e8-c22c-4397-a194-cd5145373928",
   "metadata": {},
   "source": [
    "### ANS-6\n",
    "--> nested dictionary means putting a dictionary inside another a dictionary."
   ]
  },
  {
   "cell_type": "code",
   "execution_count": 20,
   "id": "038ef327-7d27-4b30-bb3e-eda35c25a667",
   "metadata": {},
   "outputs": [
    {
     "name": "stdout",
     "output_type": "stream",
     "text": [
      "22\n"
     ]
    }
   ],
   "source": [
    "'''example of nested dictionary'''\n",
    "people = {1: {'name': 'John', 'age': '27', 'sex': 'Male'},\n",
    "          2: {'name': 'Marie', 'age': '22', 'sex': 'Female'}}\n",
    "print(people[2]['age'])"
   ]
  },
  {
   "cell_type": "markdown",
   "id": "12f2584c-00c0-4ea3-9797-2e8b412b3c10",
   "metadata": {},
   "source": [
    "----------------------------------------------------------------"
   ]
  },
  {
   "cell_type": "markdown",
   "id": "c5770842-033a-4705-b481-a2ee9d765ef8",
   "metadata": {},
   "source": [
    "### QUE:-7\n",
    "-->  Using setdefault() method, create key named topics in the given dictionary and also add the value of\n",
    "the key as this list ['Python', 'Machine Learning’, 'Deep Learning']\n",
    "dict1 = {'language' : 'Python', 'course': 'Data Science Masters'}"
   ]
  },
  {
   "cell_type": "code",
   "execution_count": 23,
   "id": "480e43e6-c6e0-4092-81f7-03d984c77980",
   "metadata": {},
   "outputs": [
    {
     "name": "stdout",
     "output_type": "stream",
     "text": [
      "{'language': 'Python', 'course': 'Data Science Masters', 'topics': ['Python', 'Machine Learning', 'Deep Learning']}\n"
     ]
    }
   ],
   "source": [
    "dict1 = {'language' : 'Python', 'course': 'Data Science Masters'}\n",
    "dict1.setdefault('topics', ['Python', 'Machine Learning', 'Deep Learning'])\n",
    "print(dict1)"
   ]
  },
  {
   "cell_type": "markdown",
   "id": "551abbb5-0947-4c94-8215-4a553181542a",
   "metadata": {},
   "source": [
    "------------------------------------------------------------------"
   ]
  },
  {
   "cell_type": "markdown",
   "id": "fca71dd0-d395-4cf2-bec9-4f26b8678cee",
   "metadata": {},
   "source": [
    "### QUE:-8\n",
    "--> What are the three view objects in dictionaries? Use the three in-built methods in python to display\n",
    "these three view objects for the given dictionary.\n",
    "\n",
    "dict1 = {'Sport': 'Cricket' , 'Teams': ['India', 'Australia', 'England', 'South Africa', 'Sri Lanka', 'New Zealand']}"
   ]
  },
  {
   "cell_type": "code",
   "execution_count": 40,
   "id": "928dbbf1-5a05-42f3-940d-b9cc59fd819c",
   "metadata": {},
   "outputs": [
    {
     "name": "stdout",
     "output_type": "stream",
     "text": [
      "dict1_key: dict_keys(['Sport', 'Teams'])\n",
      "dict1_values: dict_values(['Cricket', ['India', 'Australia', 'England', 'South Africa', 'Sri Lanka', 'New Zealand']])\n",
      "dict1_items: dict_items([('Sport', 'Cricket'), ('Teams', ['India', 'Australia', 'England', 'South Africa', 'Sri Lanka', 'New Zealand'])])\n"
     ]
    }
   ],
   "source": [
    "dict1 = {'Sport': 'Cricket' , 'Teams': ['India', 'Australia', 'England', 'South Africa', 'Sri Lanka', 'New Zealand']}\n",
    "dict1_key=dict1.keys()\n",
    "dict1_values=dict1.values()\n",
    "dict1_items=dict1.items()\n",
    "print(\"dict1_key:\",dict1.keys())\n",
    "print(\"dict1_values:\",dict1.values())\n",
    "print(\"dict1_items:\",dict1.items())"
   ]
  },
  {
   "cell_type": "code",
   "execution_count": null,
   "id": "17d85dd7-b7c5-4636-92f0-8ebbbd000ac0",
   "metadata": {},
   "outputs": [],
   "source": []
  }
 ],
 "metadata": {
  "kernelspec": {
   "display_name": "Python 3 (ipykernel)",
   "language": "python",
   "name": "python3"
  },
  "language_info": {
   "codemirror_mode": {
    "name": "ipython",
    "version": 3
   },
   "file_extension": ".py",
   "mimetype": "text/x-python",
   "name": "python",
   "nbconvert_exporter": "python",
   "pygments_lexer": "ipython3",
   "version": "3.10.8"
  }
 },
 "nbformat": 4,
 "nbformat_minor": 5
}
