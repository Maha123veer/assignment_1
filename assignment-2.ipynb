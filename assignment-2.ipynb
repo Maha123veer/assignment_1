{
 "cells": [
  {
   "cell_type": "markdown",
   "id": "e1aed06b-bbc5-47b0-8705-32d149272fb5",
   "metadata": {},
   "source": [
    "###  QUE:-1 write a programe to accept percentage from user and display the grade according to the following criteria\n"
   ]
  },
  {
   "cell_type": "code",
   "execution_count": null,
   "id": "26a3a68b-a3df-4316-bf94-615c024e211c",
   "metadata": {},
   "outputs": [],
   "source": [
    "percentage=float(input(\"enter your percentage\"))\n",
    "if percentage>90 and percentage<=100:\n",
    "    print(\"you receive grade=A\")\n",
    "elif percentage>80 and percentage<=90:\n",
    "    print(\"you receive grade=B\")\n",
    "elif percentage>60 and percentage<=80:\n",
    "    print(\"you receive grade=C\")\n",
    "else:\n",
    "    print(\"you receive grade=D\")"
   ]
  },
  {
   "cell_type": "markdown",
   "id": "5187c8a1-3a16-49c3-a058-43b325195c03",
   "metadata": {},
   "source": [
    "### QUE:-2 write a programme to accept cost price of bike and display the road tax to be paid according to the following criteria"
   ]
  },
  {
   "cell_type": "code",
   "execution_count": null,
   "id": "6ce75e78-2bf8-409e-b0f6-62bda0e6d120",
   "metadata": {},
   "outputs": [],
   "source": [
    "cp=int(input(\"enter your cost price\"))\n",
    "if cp>100000:\n",
    "    print(\"your road tax is 15%\")\n",
    "elif cp>50000 and cp<=100000:\n",
    "    print(\"your road tax is 10%\")\n",
    "elif cp>0 and cp<=50000:\n",
    "    print(\"your road tax is 5%\")\n",
    "else:\n",
    "    print(\"write the right ammount\")"
   ]
  },
  {
   "cell_type": "markdown",
   "id": "f82edc97-83b4-4ed0-94e3-97c8929b6453",
   "metadata": {},
   "source": [
    "### QUE:-3 accept any city from user and display monuments of the city."
   ]
  },
  {
   "cell_type": "code",
   "execution_count": null,
   "id": "0122e23b-940d-44d2-8fc3-aa461a56b27f",
   "metadata": {},
   "outputs": [],
   "source": [
    "city=input(\"enter your city from delhi,agra,jaipur \")\n",
    "if  city=='delhi':\n",
    "    print(\"you want to delhi in=red fort\")\n",
    "elif city=='agra':\n",
    "    print(\"you want to go agra in=taj mahal\")\n",
    "elif city=='jaipur':\n",
    "    print(\"you want to go jaipur in=jal mahal\")\n",
    "else:\n",
    "    print(\"write the right city name\")"
   ]
  },
  {
   "cell_type": "markdown",
   "id": "56b5984e-bb71-419e-9cab-ad60bf540a13",
   "metadata": {},
   "source": [
    "### QUE:-4 check how many times a given number can be divided by 3 before it is less than or equal to 10."
   ]
  },
  {
   "cell_type": "code",
   "execution_count": 12,
   "id": "6574b06d-5ff0-4a94-9a6f-013345c58dcb",
   "metadata": {},
   "outputs": [
    {
     "name": "stdin",
     "output_type": "stream",
     "text": [
      "enter the  number 52\n"
     ]
    },
    {
     "name": "stdout",
     "output_type": "stream",
     "text": [
      "total times divided by 3 is= 2\n"
     ]
    }
   ],
   "source": [
    "num=int(input(\"enter the  number\"))\n",
    "count=0\n",
    "while num>=10:\n",
    "    num=num/3\n",
    "    count=count+1\n",
    "print(\"total times divided by 3 is=\",count)\n",
    "    "
   ]
  },
  {
   "cell_type": "markdown",
   "id": "cfcf5aef-1ff1-406b-9cf2-1d92807ca1c0",
   "metadata": {},
   "source": [
    "### QUE:-5 why and when to use while loop in python give a detailed discription with example."
   ]
  },
  {
   "cell_type": "markdown",
   "id": "4a948f40-701c-48c2-939a-117161eb8125",
   "metadata": {},
   "source": [
    "#### Python While Loop is used to execute a block of statements repeatedly until a given condition is satisfied. When the condition becomes false, the line immediately after the loop in the program is executed.\n",
    "\n"
   ]
  },
  {
   "cell_type": "code",
   "execution_count": 16,
   "id": "21325c03-c2fc-4c19-b122-95d97997e8fa",
   "metadata": {},
   "outputs": [
    {
     "name": "stdout",
     "output_type": "stream",
     "text": [
      "9\n",
      "8\n",
      "7\n",
      "6\n",
      "5\n",
      "4\n",
      "3\n",
      "2\n",
      "1\n",
      "0\n"
     ]
    }
   ],
   "source": [
    "# while loop\n",
    "num = 10 \n",
    "while (num > 0): \n",
    "    num = num - 1 \n",
    "    print(num)"
   ]
  },
  {
   "cell_type": "markdown",
   "id": "ebf07534-b6aa-4cc5-9bd0-d092dd788048",
   "metadata": {},
   "source": [
    "### QUE:-6 use nested while loop to print three different pattern"
   ]
  },
  {
   "cell_type": "code",
   "execution_count": 1,
   "id": "f846f4e1-e1a1-41e2-8f6a-2b54ed65d7f6",
   "metadata": {},
   "outputs": [
    {
     "name": "stdin",
     "output_type": "stream",
     "text": [
      "enter the number 5\n"
     ]
    },
    {
     "name": "stdout",
     "output_type": "stream",
     "text": [
      "*\n",
      "**\n",
      "***\n",
      "****\n",
      "*****\n"
     ]
    }
   ],
   "source": [
    "n=int(input(\"enter the number\"))\n",
    "i=1\n",
    "while i<=n:\n",
    "    j=1\n",
    "    while j<=i:\n",
    "        print(\"*\",end='')\n",
    "        j+=1\n",
    "    print()\n",
    "    i+=1"
   ]
  },
  {
   "cell_type": "code",
   "execution_count": 2,
   "id": "0ca6d41e-05dc-4032-a322-c443db661da5",
   "metadata": {},
   "outputs": [
    {
     "name": "stdin",
     "output_type": "stream",
     "text": [
      "enter the number 5\n"
     ]
    },
    {
     "name": "stdout",
     "output_type": "stream",
     "text": [
      "****\n",
      "***\n",
      "**\n",
      "*\n",
      "\n"
     ]
    }
   ],
   "source": [
    "n=int(input(\"enter the number\"))\n",
    "i=1\n",
    "while i<=n:\n",
    "    j=1\n",
    "    while j<=n-i:\n",
    "        print(\"*\",end='')\n",
    "        j+=1\n",
    "    print()\n",
    "    i+=1"
   ]
  },
  {
   "cell_type": "code",
   "execution_count": 8,
   "id": "088fb2b3-d171-4d1f-beb0-1fbbaba88c89",
   "metadata": {},
   "outputs": [
    {
     "name": "stdin",
     "output_type": "stream",
     "text": [
      "enter the number 8\n"
     ]
    },
    {
     "name": "stdout",
     "output_type": "stream",
     "text": [
      "1 2 3 4 5 6 7 8 \n",
      "1 2 3 4 5 6 7 \n",
      "1 2 3 4 5 6 \n",
      "1 2 3 4 5 \n",
      "1 2 3 4 \n",
      "1 2 3 \n",
      "1 2 \n",
      "1 \n"
     ]
    }
   ],
   "source": [
    "n=int(input(\"enter the number\"))\n",
    "i= 1\n",
    "while i <= n:\n",
    "    j= 1 \n",
    "    while j <= n - i + 1:\n",
    "        print(j, end=\" \")\n",
    "        j += 1\n",
    "    print()\n",
    "    i += 1"
   ]
  },
  {
   "cell_type": "markdown",
   "id": "98db9001-1b8b-4a4e-87db-060e4f0e2dd9",
   "metadata": {},
   "source": [
    "### QUE:-7 reverse a while loop to display numbbers from 10 to 1."
   ]
  },
  {
   "cell_type": "code",
   "execution_count": 9,
   "id": "192efcff-9602-40dc-be34-05783be4f2eb",
   "metadata": {},
   "outputs": [
    {
     "name": "stdin",
     "output_type": "stream",
     "text": [
      "enter the number 10\n"
     ]
    },
    {
     "name": "stdout",
     "output_type": "stream",
     "text": [
      "10\n",
      "9\n",
      "8\n",
      "7\n",
      "6\n",
      "5\n",
      "4\n",
      "3\n",
      "2\n",
      "1\n",
      "0\n"
     ]
    }
   ],
   "source": [
    "n=int(input(\"enter the number\"))\n",
    "i=0\n",
    "while n>=0:\n",
    "    print(n)\n",
    "    n-=1"
   ]
  },
  {
   "cell_type": "markdown",
   "id": "d1fd25a5-10c8-4a4d-a223-d44959083a9f",
   "metadata": {},
   "source": [
    "### QUE:-8 reverse a while loop to display numbbers from 10 to 1."
   ]
  },
  {
   "cell_type": "code",
   "execution_count": 10,
   "id": "55c7ccd7-ba29-4e45-b82e-922d7e8dc940",
   "metadata": {},
   "outputs": [
    {
     "name": "stdout",
     "output_type": "stream",
     "text": [
      "10\n",
      "9\n",
      "8\n",
      "7\n",
      "6\n",
      "5\n",
      "4\n",
      "3\n",
      "2\n",
      "1\n",
      "0\n"
     ]
    }
   ],
   "source": [
    "n=10\n",
    "i=0\n",
    "while n>=0:\n",
    "    print(n)\n",
    "    n-=1"
   ]
  },
  {
   "cell_type": "code",
   "execution_count": null,
   "id": "5da2b2a3-62fd-40d5-82ab-3d64fd520d27",
   "metadata": {},
   "outputs": [],
   "source": []
  }
 ],
 "metadata": {
  "kernelspec": {
   "display_name": "Python 3 (ipykernel)",
   "language": "python",
   "name": "python3"
  },
  "language_info": {
   "codemirror_mode": {
    "name": "ipython",
    "version": 3
   },
   "file_extension": ".py",
   "mimetype": "text/x-python",
   "name": "python",
   "nbconvert_exporter": "python",
   "pygments_lexer": "ipython3",
   "version": "3.10.8"
  }
 },
 "nbformat": 4,
 "nbformat_minor": 5
}
